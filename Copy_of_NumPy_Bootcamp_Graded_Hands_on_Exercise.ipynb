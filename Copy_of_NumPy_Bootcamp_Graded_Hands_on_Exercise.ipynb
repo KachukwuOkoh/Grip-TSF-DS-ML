{
  "nbformat": 4,
  "nbformat_minor": 0,
  "metadata": {
    "colab": {
      "name": "Copy of NumPy Bootcamp Graded Hands-on Exercise.ipynb",
      "provenance": [],
      "collapsed_sections": [],
      "include_colab_link": true
    },
    "kernelspec": {
      "name": "python3",
      "display_name": "Python 3"
    },
    "language_info": {
      "name": "python"
    }
  },
  "cells": [
    {
      "cell_type": "markdown",
      "metadata": {
        "id": "view-in-github",
        "colab_type": "text"
      },
      "source": [
        "<a href=\"https://colab.research.google.com/github/KachukwuOkoh/Grip-TSF-DS-ML/blob/master/Copy_of_NumPy_Bootcamp_Graded_Hands_on_Exercise.ipynb\" target=\"_parent\"><img src=\"https://colab.research.google.com/assets/colab-badge.svg\" alt=\"Open In Colab\"/></a>"
      ]
    },
    {
      "cell_type": "markdown",
      "metadata": {
        "id": "OZpduK2BJvzZ"
      },
      "source": [
        "### **Overview**\n",
        "\n",
        "Dear Learner, \n",
        "\n",
        "Congratulations, you have studied NumPy all the way through the end of this bootcamp!!! This is the final graded hands-on exercise where you will be accomplishing the below mentioned task.\n",
        "\n",
        "**Author:** Avantika Podar"
      ]
    },
    {
      "cell_type": "markdown",
      "metadata": {
        "id": "UC6lZAsJLiFg"
      },
      "source": [
        "###Task 1:   \n",
        "\n",
        "Construct a random 3x28x28 NumPy array called *original* to represent an image and then convert this into into a 1x(3x28x28) array called *flat*. This converts it into a single row of pixels. Next, convert this to a 1D array (flatten the array using flat.flatten()). Print shape of all arrays. You may use the random function to generate the array.\n",
        "\n"
      ]
    },
    {
      "cell_type": "code",
      "metadata": {
        "id": "Qno3FG8M9RXZ"
      },
      "source": [
        "import numpy as np"
      ],
      "execution_count": 3,
      "outputs": []
    },
    {
      "cell_type": "code",
      "metadata": {
        "colab": {
          "base_uri": "https://localhost:8080/"
        },
        "id": "795UqRQUWlw1",
        "outputId": "9a595df3-9c7d-4d2d-f09c-4f343264d1c9"
      },
      "source": [
        "original = np.random.randint(10, size=(3,28,28))\n",
        "original"
      ],
      "execution_count": 8,
      "outputs": [
        {
          "output_type": "execute_result",
          "data": {
            "text/plain": [
              "array([[[5, 5, 0, ..., 7, 8, 4],\n",
              "        [0, 6, 5, ..., 7, 9, 8],\n",
              "        [7, 6, 9, ..., 2, 8, 3],\n",
              "        ...,\n",
              "        [8, 2, 5, ..., 3, 2, 3],\n",
              "        [1, 1, 0, ..., 8, 7, 8],\n",
              "        [7, 1, 5, ..., 8, 6, 7]],\n",
              "\n",
              "       [[6, 3, 0, ..., 3, 5, 7],\n",
              "        [0, 9, 4, ..., 7, 3, 7],\n",
              "        [5, 7, 3, ..., 8, 7, 1],\n",
              "        ...,\n",
              "        [5, 1, 1, ..., 4, 1, 3],\n",
              "        [9, 2, 3, ..., 9, 7, 8],\n",
              "        [2, 9, 2, ..., 9, 9, 3]],\n",
              "\n",
              "       [[9, 1, 3, ..., 5, 2, 6],\n",
              "        [9, 5, 4, ..., 7, 9, 2],\n",
              "        [4, 5, 7, ..., 9, 1, 7],\n",
              "        ...,\n",
              "        [5, 9, 4, ..., 4, 1, 1],\n",
              "        [9, 3, 2, ..., 9, 4, 5],\n",
              "        [3, 2, 3, ..., 6, 7, 2]]])"
            ]
          },
          "metadata": {},
          "execution_count": 8
        }
      ]
    },
    {
      "cell_type": "code",
      "metadata": {
        "colab": {
          "base_uri": "https://localhost:8080/"
        },
        "id": "SsxivWRzXvWq",
        "outputId": "79770e70-b77b-4940-dad3-6e51a1aabbe3"
      },
      "source": [
        "flat = original.flatten()\n",
        "flat"
      ],
      "execution_count": 10,
      "outputs": [
        {
          "output_type": "execute_result",
          "data": {
            "text/plain": [
              "array([5, 5, 0, ..., 6, 7, 2])"
            ]
          },
          "metadata": {},
          "execution_count": 10
        }
      ]
    },
    {
      "cell_type": "code",
      "metadata": {
        "colab": {
          "base_uri": "https://localhost:8080/"
        },
        "id": "OudMS5_7XvFi",
        "outputId": "c9de603d-bacb-4233-9e70-0ef0661cedb3"
      },
      "source": [
        "flatten = flat.flatten()\n",
        "flatten"
      ],
      "execution_count": 12,
      "outputs": [
        {
          "output_type": "execute_result",
          "data": {
            "text/plain": [
              "array([5, 5, 0, ..., 6, 7, 2])"
            ]
          },
          "metadata": {},
          "execution_count": 12
        }
      ]
    },
    {
      "cell_type": "code",
      "metadata": {
        "colab": {
          "base_uri": "https://localhost:8080/"
        },
        "id": "_suJ4L5bdAql",
        "outputId": "d611e9a8-5689-4770-cee1-1cbe6e91c3b5"
      },
      "source": [
        "original.shape"
      ],
      "execution_count": 13,
      "outputs": [
        {
          "output_type": "execute_result",
          "data": {
            "text/plain": [
              "(3, 28, 28)"
            ]
          },
          "metadata": {},
          "execution_count": 13
        }
      ]
    },
    {
      "cell_type": "code",
      "metadata": {
        "colab": {
          "base_uri": "https://localhost:8080/"
        },
        "id": "46jeP2osdE59",
        "outputId": "182d7439-71a6-44ca-9b78-eca59ebdb08c"
      },
      "source": [
        "flat.shape"
      ],
      "execution_count": 14,
      "outputs": [
        {
          "output_type": "execute_result",
          "data": {
            "text/plain": [
              "(2352,)"
            ]
          },
          "metadata": {},
          "execution_count": 14
        }
      ]
    },
    {
      "cell_type": "code",
      "metadata": {
        "colab": {
          "base_uri": "https://localhost:8080/"
        },
        "id": "Vl_l7QT8dAxb",
        "outputId": "c1f733d5-ab83-4083-f9dc-17ae02cf5e9d"
      },
      "source": [
        "flatten.shape"
      ],
      "execution_count": 15,
      "outputs": [
        {
          "output_type": "execute_result",
          "data": {
            "text/plain": [
              "(2352,)"
            ]
          },
          "metadata": {},
          "execution_count": 15
        }
      ]
    },
    {
      "cell_type": "markdown",
      "metadata": {
        "id": "eIcDegymM1tR"
      },
      "source": [
        "### Task 2: Print out the following: \n",
        "  * dimension of the arrays.\n",
        "  * memory address of the arrays (pointer).\n",
        "  * shape of the arrays.\n",
        "  * data types of the arrays. \n",
        "\n",
        "\n"
      ]
    },
    {
      "cell_type": "markdown",
      "metadata": {
        "id": "CwXVVXL8d-f3"
      },
      "source": [
        "## `Dimension of the arrays`"
      ]
    },
    {
      "cell_type": "code",
      "metadata": {
        "id": "H9MUhbsn9Ych",
        "colab": {
          "base_uri": "https://localhost:8080/"
        },
        "outputId": "ab2c221c-f804-4fa0-be38-82dd81165829"
      },
      "source": [
        "np.ndim(original)"
      ],
      "execution_count": 16,
      "outputs": [
        {
          "output_type": "execute_result",
          "data": {
            "text/plain": [
              "3"
            ]
          },
          "metadata": {},
          "execution_count": 16
        }
      ]
    },
    {
      "cell_type": "code",
      "metadata": {
        "colab": {
          "base_uri": "https://localhost:8080/"
        },
        "id": "MkeoWO4Pdfym",
        "outputId": "e1995bd6-08b8-41c1-aa50-832be0d65b4d"
      },
      "source": [
        "np.ndim(flat)"
      ],
      "execution_count": 18,
      "outputs": [
        {
          "output_type": "execute_result",
          "data": {
            "text/plain": [
              "1"
            ]
          },
          "metadata": {},
          "execution_count": 18
        }
      ]
    },
    {
      "cell_type": "code",
      "metadata": {
        "colab": {
          "base_uri": "https://localhost:8080/"
        },
        "id": "S4IthjgLdi9d",
        "outputId": "fa6ebbc2-7c22-4d03-d399-3beab758c04a"
      },
      "source": [
        "np.ndim(flatten)"
      ],
      "execution_count": 20,
      "outputs": [
        {
          "output_type": "execute_result",
          "data": {
            "text/plain": [
              "1"
            ]
          },
          "metadata": {},
          "execution_count": 20
        }
      ]
    },
    {
      "cell_type": "markdown",
      "metadata": {
        "id": "Aojg5-TweHPp"
      },
      "source": [
        "## `Memory Address of the arrays`"
      ]
    },
    {
      "cell_type": "code",
      "metadata": {
        "id": "LQgK0chtffSH"
      },
      "source": [
        "from array import *"
      ],
      "execution_count": 21,
      "outputs": []
    },
    {
      "cell_type": "code",
      "metadata": {
        "colab": {
          "base_uri": "https://localhost:8080/"
        },
        "id": "7F_f5IoFeS80",
        "outputId": "cfc85fe9-b1d7-407e-ece4-2901e512ec9b"
      },
      "source": [
        "origin = array(\"i\",flat)\n",
        "origin"
      ],
      "execution_count": 25,
      "outputs": [
        {
          "output_type": "execute_result",
          "data": {
            "text/plain": [
              "array('i', [5, 5, 0, 7, 4, 0, 1, 6, 6, 9, 5, 6, 3, 3, 1, 3, 5, 4, 5, 5, 2, 6, 9, 0, 7, 7, 8, 4, 0, 6, 5, 1, 0, 9, 5, 1, 4, 8, 2, 0, 4, 7, 6, 8, 6, 0, 3, 8, 0, 0, 0, 3, 2, 7, 9, 8, 7, 6, 9, 8, 2, 5, 2, 5, 5, 6, 7, 7, 7, 8, 9, 8, 3, 8, 7, 8, 8, 2, 2, 5, 3, 2, 8, 3, 8, 2, 1, 7, 5, 9, 8, 5, 1, 4, 2, 8, 8, 4, 2, 8, 5, 9, 0, 0, 1, 9, 0, 2, 0, 9, 9, 9, 6, 5, 3, 7, 8, 8, 9, 8, 5, 9, 0, 5, 7, 2, 0, 4, 0, 0, 0, 5, 3, 9, 2, 1, 4, 7, 3, 1, 7, 7, 8, 8, 8, 8, 6, 1, 3, 9, 7, 7, 9, 8, 6, 9, 1, 4, 3, 4, 0, 9, 8, 9, 1, 2, 8, 5, 7, 3, 3, 0, 8, 8, 3, 3, 7, 3, 5, 7, 8, 8, 6, 4, 7, 5, 6, 0, 6, 2, 4, 7, 1, 5, 4, 6, 1, 8, 5, 1, 3, 9, 4, 0, 7, 8, 3, 4, 1, 5, 5, 3, 9, 1, 6, 0, 3, 2, 6, 0, 1, 5, 7, 8, 2, 9, 5, 2, 1, 6, 7, 3, 2, 8, 8, 5, 6, 0, 4, 4, 8, 5, 0, 2, 0, 9, 9, 3, 3, 2, 1, 9, 2, 3, 5, 5, 9, 8, 6, 4, 9, 0, 3, 1, 8, 1, 4, 4, 2, 9, 0, 2, 4, 1, 3, 6, 2, 4, 6, 0, 7, 4, 9, 1, 1, 5, 7, 6, 6, 2, 1, 0, 1, 3, 6, 3, 6, 6, 9, 4, 0, 3, 8, 0, 4, 3, 8, 1, 7, 8, 1, 6, 9, 9, 7, 6, 4, 0, 6, 1, 5, 6, 1, 5, 8, 4, 3, 2, 0, 8, 8, 2, 9, 3, 4, 4, 3, 6, 8, 4, 8, 3, 7, 8, 1, 8, 2, 0, 7, 7, 9, 0, 6, 8, 6, 0, 3, 7, 0, 9, 9, 6, 9, 6, 9, 6, 5, 9, 8, 0, 1, 0, 4, 3, 5, 1, 4, 4, 1, 8, 8, 0, 7, 7, 9, 3, 4, 0, 4, 7, 7, 7, 8, 7, 2, 6, 2, 9, 2, 9, 4, 5, 6, 6, 4, 2, 9, 5, 4, 8, 2, 9, 8, 9, 6, 0, 8, 1, 0, 1, 4, 7, 6, 1, 6, 7, 8, 6, 2, 6, 4, 6, 4, 6, 4, 2, 5, 2, 9, 7, 2, 7, 9, 9, 3, 5, 8, 1, 2, 9, 8, 8, 9, 0, 4, 1, 0, 9, 2, 1, 6, 1, 1, 0, 5, 9, 4, 6, 8, 7, 5, 8, 3, 2, 1, 5, 6, 7, 9, 7, 6, 0, 8, 9, 2, 3, 8, 1, 7, 6, 0, 2, 9, 6, 5, 9, 1, 7, 0, 6, 3, 2, 5, 3, 4, 6, 2, 5, 5, 0, 0, 4, 6, 7, 2, 1, 3, 0, 4, 1, 6, 3, 7, 4, 1, 3, 7, 2, 7, 5, 9, 3, 5, 4, 8, 4, 1, 2, 2, 1, 9, 0, 7, 0, 3, 2, 3, 7, 4, 4, 3, 5, 2, 6, 4, 7, 3, 4, 1, 7, 6, 8, 3, 9, 5, 9, 8, 6, 5, 2, 5, 6, 3, 1, 4, 3, 4, 4, 0, 2, 3, 9, 5, 1, 5, 3, 6, 4, 7, 2, 3, 3, 2, 5, 7, 6, 0, 6, 6, 9, 7, 9, 4, 4, 6, 2, 8, 9, 6, 8, 7, 8, 1, 6, 0, 7, 9, 0, 4, 7, 2, 9, 8, 1, 2, 0, 4, 4, 1, 7, 7, 1, 6, 1, 3, 2, 3, 9, 2, 6, 9, 8, 3, 1, 9, 9, 1, 3, 1, 2, 0, 9, 8, 7, 7, 1, 8, 0, 8, 2, 6, 8, 1, 7, 5, 2, 6, 8, 3, 3, 6, 6, 1, 7, 5, 0, 8, 1, 1, 4, 2, 6, 5, 5, 9, 5, 1, 0, 1, 2, 7, 6, 8, 1, 9, 6, 8, 9, 8, 1, 8, 2, 5, 9, 8, 8, 9, 7, 5, 1, 0, 4, 1, 6, 9, 8, 3, 2, 6, 9, 1, 1, 4, 0, 4, 3, 2, 3, 1, 1, 0, 4, 2, 5, 8, 3, 5, 4, 1, 9, 9, 4, 7, 0, 7, 5, 5, 3, 2, 2, 2, 8, 0, 8, 7, 8, 7, 1, 5, 3, 4, 6, 6, 6, 9, 5, 9, 9, 4, 4, 8, 6, 4, 4, 0, 3, 4, 4, 9, 7, 8, 8, 6, 7, 6, 3, 0, 5, 8, 4, 6, 5, 9, 1, 9, 1, 7, 1, 3, 5, 4, 7, 8, 1, 4, 9, 0, 8, 1, 3, 5, 7, 0, 9, 4, 2, 7, 4, 0, 6, 3, 7, 4, 1, 5, 2, 0, 3, 0, 8, 7, 7, 5, 4, 9, 2, 6, 7, 3, 7, 5, 7, 3, 6, 3, 6, 5, 1, 6, 2, 9, 3, 7, 0, 6, 2, 9, 2, 3, 8, 3, 1, 5, 3, 2, 8, 7, 1, 8, 1, 2, 1, 7, 2, 3, 8, 5, 1, 0, 4, 6, 2, 2, 6, 3, 4, 0, 7, 5, 0, 6, 4, 2, 6, 1, 6, 7, 5, 5, 4, 2, 9, 4, 9, 8, 5, 2, 8, 5, 1, 9, 5, 2, 2, 4, 5, 6, 5, 9, 2, 0, 5, 5, 1, 2, 8, 1, 6, 0, 5, 6, 2, 8, 7, 3, 2, 1, 1, 6, 8, 9, 4, 8, 9, 2, 2, 0, 0, 1, 8, 4, 5, 5, 8, 4, 8, 5, 6, 9, 3, 9, 9, 5, 9, 4, 1, 4, 8, 4, 6, 2, 9, 5, 1, 3, 8, 0, 6, 9, 0, 9, 3, 8, 4, 0, 4, 3, 0, 5, 1, 0, 7, 0, 1, 1, 2, 9, 7, 3, 3, 2, 7, 0, 0, 9, 1, 6, 8, 3, 4, 2, 4, 9, 4, 9, 7, 7, 6, 7, 3, 0, 7, 0, 2, 0, 1, 2, 6, 3, 4, 0, 9, 0, 6, 4, 2, 0, 7, 6, 8, 0, 9, 4, 4, 0, 1, 4, 4, 9, 5, 0, 5, 5, 1, 7, 6, 6, 0, 4, 3, 5, 2, 4, 9, 8, 5, 2, 5, 3, 0, 1, 9, 9, 2, 5, 3, 9, 5, 1, 7, 1, 9, 8, 1, 0, 7, 6, 6, 9, 9, 2, 6, 8, 5, 3, 3, 9, 5, 4, 8, 7, 9, 3, 4, 6, 0, 1, 9, 9, 7, 8, 9, 2, 6, 7, 2, 4, 5, 4, 9, 6, 7, 5, 4, 9, 1, 9, 4, 2, 4, 4, 3, 1, 2, 3, 5, 9, 8, 4, 7, 9, 8, 1, 3, 8, 9, 4, 1, 5, 4, 6, 5, 7, 6, 0, 7, 8, 9, 6, 0, 2, 8, 0, 3, 7, 5, 5, 8, 8, 0, 8, 2, 8, 2, 0, 6, 1, 1, 9, 7, 4, 8, 2, 8, 5, 3, 5, 3, 3, 2, 3, 3, 6, 6, 9, 6, 2, 2, 5, 8, 4, 7, 1, 9, 3, 4, 1, 2, 0, 5, 7, 1, 2, 6, 5, 3, 8, 7, 8, 2, 8, 8, 4, 8, 9, 7, 8, 5, 4, 1, 6, 6, 1, 4, 9, 9, 3, 3, 5, 8, 8, 8, 6, 5, 5, 9, 5, 5, 4, 6, 1, 9, 9, 9, 5, 3, 9, 2, 8, 5, 2, 3, 1, 2, 3, 4, 8, 9, 5, 8, 3, 0, 4, 6, 3, 6, 3, 3, 4, 4, 0, 3, 1, 6, 1, 3, 8, 8, 1, 2, 2, 9, 4, 1, 2, 9, 2, 2, 4, 6, 0, 8, 4, 1, 7, 0, 0, 4, 9, 9, 0, 2, 8, 7, 0, 5, 9, 1, 2, 0, 5, 3, 4, 8, 7, 4, 3, 1, 7, 4, 3, 0, 0, 4, 1, 2, 1, 7, 5, 4, 2, 0, 7, 7, 5, 8, 2, 9, 4, 6, 5, 5, 1, 5, 6, 5, 5, 2, 5, 7, 1, 1, 6, 8, 2, 4, 8, 7, 0, 7, 3, 8, 5, 2, 2, 1, 1, 9, 5, 4, 4, 6, 4, 4, 4, 9, 1, 0, 8, 1, 8, 5, 8, 7, 1, 0, 4, 9, 3, 5, 8, 3, 6, 8, 6, 7, 0, 6, 4, 0, 3, 6, 9, 2, 9, 2, 3, 3, 6, 8, 0, 8, 3, 8, 8, 6, 5, 4, 7, 7, 6, 0, 3, 5, 2, 7, 9, 0, 4, 0, 0, 3, 5, 6, 7, 9, 5, 8, 0, 2, 5, 0, 4, 9, 8, 5, 3, 5, 8, 6, 4, 4, 7, 7, 9, 5, 0, 4, 2, 6, 3, 5, 4, 4, 7, 6, 4, 8, 9, 6, 3, 7, 9, 4, 5, 1, 1, 2, 7, 9, 0, 4, 6, 7, 5, 7, 0, 3, 0, 4, 5, 1, 1, 9, 9, 3, 2, 7, 0, 4, 1, 3, 9, 2, 3, 4, 2, 2, 4, 5, 7, 9, 6, 8, 3, 3, 3, 0, 9, 1, 9, 2, 2, 1, 5, 9, 0, 9, 7, 8, 2, 9, 2, 4, 3, 9, 1, 1, 4, 5, 8, 4, 5, 1, 6, 4, 3, 9, 2, 5, 5, 0, 9, 3, 7, 9, 9, 3, 9, 1, 3, 6, 6, 3, 4, 0, 7, 1, 9, 7, 7, 9, 7, 2, 5, 8, 5, 2, 9, 4, 0, 8, 0, 5, 2, 6, 9, 5, 4, 4, 5, 4, 6, 5, 2, 5, 3, 9, 8, 3, 0, 3, 2, 7, 8, 6, 6, 0, 5, 4, 9, 7, 9, 2, 4, 5, 7, 0, 8, 5, 4, 4, 8, 5, 8, 2, 7, 8, 6, 3, 4, 4, 6, 9, 4, 0, 7, 0, 5, 9, 1, 7, 9, 8, 7, 4, 4, 4, 6, 2, 9, 2, 5, 8, 1, 8, 3, 1, 0, 7, 2, 4, 5, 8, 4, 0, 4, 7, 8, 0, 7, 9, 7, 4, 8, 8, 9, 3, 6, 1, 2, 4, 3, 6, 4, 4, 2, 1, 4, 6, 3, 4, 3, 2, 0, 9, 5, 1, 2, 8, 3, 6, 9, 8, 9, 1, 0, 5, 7, 5, 8, 8, 7, 6, 5, 5, 1, 8, 8, 3, 9, 0, 5, 9, 1, 8, 2, 1, 2, 3, 2, 3, 5, 1, 0, 8, 1, 0, 5, 9, 1, 8, 2, 7, 8, 9, 2, 6, 9, 9, 1, 9, 5, 1, 9, 0, 0, 4, 7, 3, 9, 3, 4, 7, 7, 3, 6, 2, 0, 3, 2, 8, 7, 8, 2, 1, 8, 6, 8, 5, 6, 6, 4, 3, 2, 0, 4, 4, 2, 1, 5, 2, 2, 4, 0, 2, 5, 7, 1, 6, 7, 6, 6, 9, 0, 2, 7, 1, 5, 6, 9, 9, 2, 6, 0, 5, 3, 2, 3, 4, 5, 0, 7, 4, 5, 1, 5, 0, 6, 5, 6, 5, 2, 9, 5, 1, 0, 0, 2, 2, 0, 5, 7, 8, 8, 5, 4, 7, 0, 3, 1, 4, 6, 3, 4, 6, 1, 6, 5, 4, 2, 1, 2, 8, 2, 7, 1, 5, 3, 5, 9, 8, 6, 0, 3, 5, 5, 3, 5, 8, 7, 5, 5, 0, 5, 9, 8, 0, 4, 1, 0, 3, 6, 6, 8, 2, 0, 0, 0, 3, 1, 7, 4, 4, 2, 3, 8, 3, 8, 8, 1, 7, 9, 7, 6, 1, 6, 0, 2, 0, 0, 0, 1, 5, 9, 7, 3, 7, 2, 7, 7, 4, 5, 7, 9, 3, 1, 4, 5, 4, 6, 2, 9, 1, 7, 6, 5, 9, 8, 7, 5, 4, 4, 6, 7, 7, 7, 9, 4, 2, 8, 1, 2, 5, 3, 2, 5, 5, 5, 2, 3, 6, 7, 6, 7, 2, 8, 7, 7, 2, 9, 2, 9, 6, 8, 5, 5, 9, 9, 8, 2, 8, 0, 3, 3, 2, 8, 7, 8, 1, 4, 8, 5, 1, 7, 7, 4, 8, 7, 2, 3, 7, 1, 2, 1, 0, 6, 5, 0, 7, 0, 6, 3, 4, 7, 2, 6, 7, 8, 5, 5, 8, 3, 8, 6, 3, 2, 5, 3, 5, 3, 5, 6, 3, 0, 5, 5, 1, 7, 7, 3, 2, 8, 5, 5, 3, 1, 3, 0, 2, 8, 0, 7, 9, 8, 1, 2, 4, 7, 2, 1, 1, 3, 8, 1, 1, 9, 8, 1, 1, 5, 1, 8, 3, 7, 2, 2, 3, 3, 8, 3, 9, 4, 3, 1, 9, 2, 6, 8, 9, 4, 2, 1, 4, 8, 5, 9, 6, 9, 0, 7, 2, 6, 0, 1, 0, 6, 7, 5, 8, 1, 4, 2, 5, 7, 3, 3, 1, 4, 3, 5, 7, 2, 2, 7, 9, 7, 1, 6, 3, 5, 9, 2, 6, 1, 9, 8, 0, 3, 6, 0, 9, 8, 1, 0, 8, 3, 6, 7, 2, 5, 1, 8, 6, 8, 2, 6, 0, 4, 7, 1, 7, 5, 5, 9, 3, 4, 6, 5, 9, 4, 7, 7, 7, 5, 4, 2, 0, 4, 6, 2, 4, 0, 9, 4, 3, 3, 5, 7, 4, 4, 9, 1, 2, 9, 6, 6, 3, 1, 4, 8, 7, 5, 1, 7, 8, 5, 8, 1, 1, 7, 0, 4, 0, 3, 3, 5, 0, 8, 0, 6, 5, 2, 8, 4, 2, 8, 2, 4, 1, 5, 0, 5, 7, 1, 3, 3, 9, 3, 0, 4, 0, 1, 1, 8, 4, 0, 5, 5, 9, 4, 0, 8, 3, 4, 3, 0, 6, 4, 6, 6, 4, 3, 0, 4, 1, 6, 0, 7, 8, 9, 6, 9, 4, 1, 1, 9, 3, 2, 0, 4, 7, 7, 1, 1, 1, 0, 2, 1, 6, 5, 4, 7, 9, 5, 6, 1, 3, 9, 2, 6, 9, 4, 5, 3, 2, 3, 1, 1, 7, 2, 9, 5, 9, 6, 8, 8, 8, 4, 0, 6, 9, 9, 7, 2, 0, 2, 5, 0, 6, 7, 2])"
            ]
          },
          "metadata": {},
          "execution_count": 25
        }
      ]
    },
    {
      "cell_type": "code",
      "metadata": {
        "colab": {
          "base_uri": "https://localhost:8080/"
        },
        "id": "dCXaP3bMfmNE",
        "outputId": "c981e94e-a7c3-40db-f392-43ac7e2b64af"
      },
      "source": [
        "print(\"Current memory address and the length in elements of the buffer: \"+str(origin.buffer_info()))\n",
        "print(\"The size of the memory buffer in bytes: \"+str(origin.buffer_info()[1] * origin.itemsize)) "
      ],
      "execution_count": 28,
      "outputs": [
        {
          "output_type": "stream",
          "name": "stdout",
          "text": [
            "Current memory address and the length in elements of the buffer: (94189692182528, 2352)\n",
            "The size of the memory buffer in bytes: 9408\n"
          ]
        }
      ]
    },
    {
      "cell_type": "code",
      "metadata": {
        "id": "UZN-UD59eTMA"
      },
      "source": [
        ""
      ],
      "execution_count": 20,
      "outputs": []
    },
    {
      "cell_type": "code",
      "metadata": {
        "id": "M9bEgPL1eTOx"
      },
      "source": [
        ""
      ],
      "execution_count": 20,
      "outputs": []
    },
    {
      "cell_type": "markdown",
      "metadata": {
        "id": "No75GK3Grxjx"
      },
      "source": [
        "## `Shape of the arrays`"
      ]
    },
    {
      "cell_type": "code",
      "metadata": {
        "colab": {
          "base_uri": "https://localhost:8080/"
        },
        "id": "wsSqocW7rxGO",
        "outputId": "cb601a65-e890-4b4d-a438-16bac3915306"
      },
      "source": [
        "original.shape"
      ],
      "execution_count": 59,
      "outputs": [
        {
          "output_type": "execute_result",
          "data": {
            "text/plain": [
              "(3, 28, 28)"
            ]
          },
          "metadata": {},
          "execution_count": 59
        }
      ]
    },
    {
      "cell_type": "code",
      "metadata": {
        "colab": {
          "base_uri": "https://localhost:8080/"
        },
        "id": "LKoSlWgWr6JR",
        "outputId": "f09fc7a8-4b1c-4c35-c486-5502b7ea9f0c"
      },
      "source": [
        "flat.shape"
      ],
      "execution_count": 60,
      "outputs": [
        {
          "output_type": "execute_result",
          "data": {
            "text/plain": [
              "(2352,)"
            ]
          },
          "metadata": {},
          "execution_count": 60
        }
      ]
    },
    {
      "cell_type": "code",
      "metadata": {
        "colab": {
          "base_uri": "https://localhost:8080/"
        },
        "id": "5t-4TqEur6M6",
        "outputId": "be75cb1b-0b9f-44fd-c9f1-5b8aa7544920"
      },
      "source": [
        "flatten.shape"
      ],
      "execution_count": 61,
      "outputs": [
        {
          "output_type": "execute_result",
          "data": {
            "text/plain": [
              "(2352,)"
            ]
          },
          "metadata": {},
          "execution_count": 61
        }
      ]
    },
    {
      "cell_type": "markdown",
      "metadata": {
        "id": "sSxgmGKOsBdk"
      },
      "source": [
        "## `Datatypes of the arrays`"
      ]
    },
    {
      "cell_type": "code",
      "metadata": {
        "colab": {
          "base_uri": "https://localhost:8080/"
        },
        "id": "uB6bIWuyr6Qr",
        "outputId": "0b628d1a-fe2e-40ef-a87c-5d4af593ab13"
      },
      "source": [
        "type(original)"
      ],
      "execution_count": 63,
      "outputs": [
        {
          "output_type": "execute_result",
          "data": {
            "text/plain": [
              "numpy.ndarray"
            ]
          },
          "metadata": {},
          "execution_count": 63
        }
      ]
    },
    {
      "cell_type": "code",
      "metadata": {
        "colab": {
          "base_uri": "https://localhost:8080/"
        },
        "id": "NIENh_ghsIt6",
        "outputId": "f02a9894-f4c8-4674-f762-70576f8159fa"
      },
      "source": [
        "type(flat)"
      ],
      "execution_count": 64,
      "outputs": [
        {
          "output_type": "execute_result",
          "data": {
            "text/plain": [
              "numpy.ndarray"
            ]
          },
          "metadata": {},
          "execution_count": 64
        }
      ]
    },
    {
      "cell_type": "code",
      "metadata": {
        "colab": {
          "base_uri": "https://localhost:8080/"
        },
        "id": "0eHajgpqsIwq",
        "outputId": "a5d2ac99-4be6-442b-a66e-c6f65c502fe4"
      },
      "source": [
        "type(flatten)"
      ],
      "execution_count": 65,
      "outputs": [
        {
          "output_type": "execute_result",
          "data": {
            "text/plain": [
              "numpy.ndarray"
            ]
          },
          "metadata": {},
          "execution_count": 65
        }
      ]
    },
    {
      "cell_type": "markdown",
      "metadata": {
        "id": "mZYl9CjBN9bg"
      },
      "source": [
        "### Task 3: \n",
        "Construct a new array which is a negative of the *original* array, i.e, all elements are negative of those in the *original* array. Print the new array. Add the original and new arrays. Print the result. "
      ]
    },
    {
      "cell_type": "code",
      "metadata": {
        "id": "0VCQBW-F933Z",
        "colab": {
          "base_uri": "https://localhost:8080/"
        },
        "outputId": "985ff24b-1629-47ac-b1de-bfc474465bac"
      },
      "source": [
        "fake = np.negative(original)\n",
        "fake"
      ],
      "execution_count": 55,
      "outputs": [
        {
          "output_type": "execute_result",
          "data": {
            "text/plain": [
              "array([[[-5, -5,  0, ..., -7, -8, -4],\n",
              "        [ 0, -6, -5, ..., -7, -9, -8],\n",
              "        [-7, -6, -9, ..., -2, -8, -3],\n",
              "        ...,\n",
              "        [-8, -2, -5, ..., -3, -2, -3],\n",
              "        [-1, -1,  0, ..., -8, -7, -8],\n",
              "        [-7, -1, -5, ..., -8, -6, -7]],\n",
              "\n",
              "       [[-6, -3,  0, ..., -3, -5, -7],\n",
              "        [ 0, -9, -4, ..., -7, -3, -7],\n",
              "        [-5, -7, -3, ..., -8, -7, -1],\n",
              "        ...,\n",
              "        [-5, -1, -1, ..., -4, -1, -3],\n",
              "        [-9, -2, -3, ..., -9, -7, -8],\n",
              "        [-2, -9, -2, ..., -9, -9, -3]],\n",
              "\n",
              "       [[-9, -1, -3, ..., -5, -2, -6],\n",
              "        [-9, -5, -4, ..., -7, -9, -2],\n",
              "        [-4, -5, -7, ..., -9, -1, -7],\n",
              "        ...,\n",
              "        [-5, -9, -4, ..., -4, -1, -1],\n",
              "        [-9, -3, -2, ..., -9, -4, -5],\n",
              "        [-3, -2, -3, ..., -6, -7, -2]]])"
            ]
          },
          "metadata": {},
          "execution_count": 55
        }
      ]
    },
    {
      "cell_type": "code",
      "metadata": {
        "colab": {
          "base_uri": "https://localhost:8080/"
        },
        "id": "AKHh0oNjrcs_",
        "outputId": "f5ef302d-aa77-4f65-edba-ed0a5ecb4d9f"
      },
      "source": [
        "neutral = original + fake\n",
        "neutral"
      ],
      "execution_count": 57,
      "outputs": [
        {
          "output_type": "execute_result",
          "data": {
            "text/plain": [
              "array([[[0, 0, 0, ..., 0, 0, 0],\n",
              "        [0, 0, 0, ..., 0, 0, 0],\n",
              "        [0, 0, 0, ..., 0, 0, 0],\n",
              "        ...,\n",
              "        [0, 0, 0, ..., 0, 0, 0],\n",
              "        [0, 0, 0, ..., 0, 0, 0],\n",
              "        [0, 0, 0, ..., 0, 0, 0]],\n",
              "\n",
              "       [[0, 0, 0, ..., 0, 0, 0],\n",
              "        [0, 0, 0, ..., 0, 0, 0],\n",
              "        [0, 0, 0, ..., 0, 0, 0],\n",
              "        ...,\n",
              "        [0, 0, 0, ..., 0, 0, 0],\n",
              "        [0, 0, 0, ..., 0, 0, 0],\n",
              "        [0, 0, 0, ..., 0, 0, 0]],\n",
              "\n",
              "       [[0, 0, 0, ..., 0, 0, 0],\n",
              "        [0, 0, 0, ..., 0, 0, 0],\n",
              "        [0, 0, 0, ..., 0, 0, 0],\n",
              "        ...,\n",
              "        [0, 0, 0, ..., 0, 0, 0],\n",
              "        [0, 0, 0, ..., 0, 0, 0],\n",
              "        [0, 0, 0, ..., 0, 0, 0]]])"
            ]
          },
          "metadata": {},
          "execution_count": 57
        }
      ]
    },
    {
      "cell_type": "markdown",
      "metadata": {
        "id": "4UKa56EzQXaU"
      },
      "source": [
        "###Task 4\n",
        "\n",
        "A 3x28x28 basically means 28x28 matrices repeated three times. How would you access the first 10 elements of the 2nd row of the second 28x28 matrix? Consider the original array for this. Print the elements."
      ]
    },
    {
      "cell_type": "code",
      "metadata": {
        "id": "bc0stgsY93Tn",
        "colab": {
          "base_uri": "https://localhost:8080/"
        },
        "outputId": "7e6694f9-ff69-4e4a-a073-ebe6d3ec55a3"
      },
      "source": [
        "print (original[1,1,0:11])"
      ],
      "execution_count": 29,
      "outputs": [
        {
          "output_type": "stream",
          "name": "stdout",
          "text": [
            "[0 9 4 2 7 4 0 6 3 7 4]\n"
          ]
        }
      ]
    },
    {
      "cell_type": "markdown",
      "metadata": {
        "id": "8USrPA7NdRXQ"
      },
      "source": [
        "### Task 5 \n",
        "A 3x28x28 image means 3 channels of Red, Green, or Blue (Popularly known as RGB image). Each color channel has a height and width, which is 28X28 in this case. The entire picture can represented through this method. Print the shape of the Blue pixel matrix and its first 3 rows."
      ]
    },
    {
      "cell_type": "markdown",
      "metadata": {
        "id": "5JNYnOKAnYp7"
      },
      "source": [
        "## `Using the 'original' variable as our image color channels`"
      ]
    },
    {
      "cell_type": "code",
      "metadata": {
        "id": "bQCRmVPz92r7",
        "colab": {
          "base_uri": "https://localhost:8080/"
        },
        "outputId": "4e8b5483-f370-4fac-a820-f3433cb08c9f"
      },
      "source": [
        "print (original[2,0:3,:].shape)"
      ],
      "execution_count": 30,
      "outputs": [
        {
          "output_type": "stream",
          "name": "stdout",
          "text": [
            "(3, 28)\n"
          ]
        }
      ]
    },
    {
      "cell_type": "code",
      "metadata": {
        "colab": {
          "base_uri": "https://localhost:8080/"
        },
        "id": "Q84m7NSjj87d",
        "outputId": "30adb2af-3d9a-46da-8aec-98f54d562678"
      },
      "source": [
        "print (original[2,:,:].shape)"
      ],
      "execution_count": 31,
      "outputs": [
        {
          "output_type": "stream",
          "name": "stdout",
          "text": [
            "(28, 28)\n"
          ]
        }
      ]
    },
    {
      "cell_type": "code",
      "metadata": {
        "colab": {
          "base_uri": "https://localhost:8080/"
        },
        "id": "W0g-RG0aj8Zp",
        "outputId": "c9d6ce13-be62-4107-ca86-d6fedb84d217"
      },
      "source": [
        "print (original[2,0:3,:])"
      ],
      "execution_count": 32,
      "outputs": [
        {
          "output_type": "stream",
          "name": "stdout",
          "text": [
            "[[9 1 3 6 6 3 4 0 7 1 9 7 7 9 7 2 5 8 5 2 9 4 0 8 0 5 2 6]\n",
            " [9 5 4 4 5 4 6 5 2 5 3 9 8 3 0 3 2 7 8 6 6 0 5 4 9 7 9 2]\n",
            " [4 5 7 0 8 5 4 4 8 5 8 2 7 8 6 3 4 4 6 9 4 0 7 0 5 9 1 7]]\n"
          ]
        }
      ]
    },
    {
      "cell_type": "markdown",
      "metadata": {
        "id": "Nb9AZUweD-3m"
      },
      "source": [
        "### Task 6 \n",
        "Create a 1 dimensional numpy array of the first 50 even numbers. Convert this to a 10x5 numpy array and print its transpose. "
      ]
    },
    {
      "cell_type": "code",
      "metadata": {
        "id": "JJj-N-Kt92Nz",
        "colab": {
          "base_uri": "https://localhost:8080/"
        },
        "outputId": "1bae0fbf-75d2-4da9-fa23-d0c6c74e2b2d"
      },
      "source": [
        "lst = []\n",
        "for i in range(2,101):\n",
        "    if i%2==0:\n",
        "        lst.append(i)\n",
        "even = np.array(lst)\n",
        "even"
      ],
      "execution_count": 35,
      "outputs": [
        {
          "output_type": "execute_result",
          "data": {
            "text/plain": [
              "array([  2,   4,   6,   8,  10,  12,  14,  16,  18,  20,  22,  24,  26,\n",
              "        28,  30,  32,  34,  36,  38,  40,  42,  44,  46,  48,  50,  52,\n",
              "        54,  56,  58,  60,  62,  64,  66,  68,  70,  72,  74,  76,  78,\n",
              "        80,  82,  84,  86,  88,  90,  92,  94,  96,  98, 100])"
            ]
          },
          "metadata": {},
          "execution_count": 35
        }
      ]
    },
    {
      "cell_type": "code",
      "metadata": {
        "colab": {
          "base_uri": "https://localhost:8080/"
        },
        "id": "0VUu_2bekvic",
        "outputId": "7887ee1c-3e43-4e6f-fe7f-7f2624415dbb"
      },
      "source": [
        "even_convert = even.reshape((10,5))\n",
        "even_convert\n",
        "#print (even_convert.size)"
      ],
      "execution_count": 43,
      "outputs": [
        {
          "output_type": "execute_result",
          "data": {
            "text/plain": [
              "array([[  2,   4,   6,   8,  10],\n",
              "       [ 12,  14,  16,  18,  20],\n",
              "       [ 22,  24,  26,  28,  30],\n",
              "       [ 32,  34,  36,  38,  40],\n",
              "       [ 42,  44,  46,  48,  50],\n",
              "       [ 52,  54,  56,  58,  60],\n",
              "       [ 62,  64,  66,  68,  70],\n",
              "       [ 72,  74,  76,  78,  80],\n",
              "       [ 82,  84,  86,  88,  90],\n",
              "       [ 92,  94,  96,  98, 100]])"
            ]
          },
          "metadata": {},
          "execution_count": 43
        }
      ]
    },
    {
      "cell_type": "code",
      "metadata": {
        "colab": {
          "base_uri": "https://localhost:8080/"
        },
        "id": "03KoQojclEPr",
        "outputId": "3a2cb63d-0136-4a4d-ebac-e2028bb8f75c"
      },
      "source": [
        "even_convert.transpose()"
      ],
      "execution_count": 39,
      "outputs": [
        {
          "output_type": "execute_result",
          "data": {
            "text/plain": [
              "array([[  2,  12,  22,  32,  42,  52,  62,  72,  82,  92],\n",
              "       [  4,  14,  24,  34,  44,  54,  64,  74,  84,  94],\n",
              "       [  6,  16,  26,  36,  46,  56,  66,  76,  86,  96],\n",
              "       [  8,  18,  28,  38,  48,  58,  68,  78,  88,  98],\n",
              "       [ 10,  20,  30,  40,  50,  60,  70,  80,  90, 100]])"
            ]
          },
          "metadata": {},
          "execution_count": 39
        }
      ]
    },
    {
      "cell_type": "markdown",
      "metadata": {
        "id": "ITBNUk5dHu0f"
      },
      "source": [
        "###Task 7 \n",
        "Consider the 10x5 array created in Task 6. Find the mean each row and column. You may use in built functions or write your own code."
      ]
    },
    {
      "cell_type": "code",
      "metadata": {
        "id": "9bFi6vVf91oY",
        "colab": {
          "base_uri": "https://localhost:8080/"
        },
        "outputId": "9977b4da-e162-4bae-d547-27dcf3d80317"
      },
      "source": [
        "rows = np.mean(even_convert, 1)\n",
        "print ('Mean for each row', rows)\n",
        "print ()\n",
        "columns = np.mean(even_convert, 0)\n",
        "print ('Mean for each column', columns)\n"
      ],
      "execution_count": 54,
      "outputs": [
        {
          "output_type": "stream",
          "name": "stdout",
          "text": [
            "Mean for each row [ 6. 16. 26. 36. 46. 56. 66. 76. 86. 96.]\n",
            "\n",
            "Mean for each column [47. 49. 51. 53. 55.]\n"
          ]
        }
      ]
    },
    {
      "cell_type": "markdown",
      "metadata": {
        "id": "WEHBWo7AGXKK"
      },
      "source": [
        "### Task 8\n",
        "Can we create a 3x3 array of the first 50 even numbers? Why or why not? What are other values of m and n for which mxn dimension is allowed for 50 elements?"
      ]
    },
    {
      "cell_type": "markdown",
      "metadata": {
        "id": "RXjXyyNrohym"
      },
      "source": [
        "## `Answer`"
      ]
    },
    {
      "cell_type": "markdown",
      "metadata": {
        "id": "vgIrDCNAn4fw"
      },
      "source": [
        "We can not create a 3x3 array for the first 50 even numbers because the size of the created array should equal 50 and 3x3 equals 9 hence impossible.\n",
        "\n",
        "However, values of mxn dimensions allowed are:\n",
        "1x50, 2x25, 5x10, 10x5, 25x2, 50x1"
      ]
    },
    {
      "cell_type": "markdown",
      "metadata": {
        "id": "nGirNkBS90-J"
      },
      "source": [
        ""
      ]
    }
  ]
}